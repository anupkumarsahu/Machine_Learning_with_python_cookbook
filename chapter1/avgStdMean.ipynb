{
 "cells": [
  {
   "cell_type": "code",
   "execution_count": null,
   "metadata": {},
   "outputs": [],
   "source": [
    "# load library\n",
    "import numpy as np\n",
    "\n",
    "# Create matrix\n",
    "matrix = np.array([[1, 2, 3],\n",
    "                   [4, 5, 6],\n",
    "                   [7, 8, 9]])\n",
    "\n",
    "# Return mean\n",
    "print(\"Mean \\n\",np.mean(matrix))\n",
    "\n",
    "# Return mean for column\n",
    "print(\"Mean by column \\n\",np.mean(matrix, axis=0))\n",
    "\n",
    "# Return mean for column\n",
    "print(\"Mean by row \\n\",np.mean(matrix, axis=1))\n",
    "\n",
    "# Return variance\n",
    "print(\"variance \\n\", np.var(matrix))\n",
    "\n",
    "# Return variance for column\n",
    "print(\"variance by column \\n\",np.var(matrix, axis=0))\n",
    "\n",
    "# Return variance for row\n",
    "print(\"variance by row \\n\",np.var(matrix, axis=1))\n",
    "\n",
    "# Return standard deviation\n",
    "print(\"deviation \\n\",np.std(matrix))\n"
   ]
  }
 ],
 "metadata": {
  "language": "python"
 },
 "nbformat": 4,
 "nbformat_minor": 2
}
