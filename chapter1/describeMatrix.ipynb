{
 "cells": [
  {
   "cell_type": "code",
   "execution_count": null,
   "metadata": {},
   "outputs": [],
   "source": [
    "# Load library\n",
    "import numpy as np\n",
    "\n",
    "# Create matrix\n",
    "matrix = np.array([[1, 2, 3, 4],\n",
    "                   [5, 6, 7, 8],\n",
    "                   [9, 10, 11, 12]])\n",
    "\n",
    "\n",
    "# View number of rows and columns\n",
    "print(matrix.shape)\n",
    "\n",
    "# View number of elements (rows * columns)\n",
    "print(matrix.size)\n",
    "\n",
    "# View number of dimensions\n",
    "print(matrix.ndim)"
   ]
  }
 ],
 "metadata": {
  "language": "python"
 },
 "nbformat": 4,
 "nbformat_minor": 2
}
