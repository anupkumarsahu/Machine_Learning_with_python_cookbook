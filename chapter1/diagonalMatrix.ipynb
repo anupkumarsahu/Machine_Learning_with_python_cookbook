{
 "cells": [
  {
   "cell_type": "code",
   "execution_count": null,
   "metadata": {},
   "outputs": [],
   "source": [
    "# Load library\n",
    "import numpy as np\n",
    "\n",
    "# Create matrix\n",
    "matrix = np.array([[1, 2, 3],\n",
    "                   [2, 4, 6],\n",
    "                   [3, 8, 9]])\n",
    "\n",
    "# Return diagonal elements\n",
    "print(matrix.diagonal())\n",
    "\n",
    "# Return diagonal one above the main diagonal\n",
    "print(matrix.diagonal(offset=1))\n",
    "\n",
    "# Return diagonal one below the main diagonal\n",
    "print(matrix.diagonal(offset=-1))"
   ]
  }
 ],
 "metadata": {
  "language": "python"
 },
 "nbformat": 4,
 "nbformat_minor": 2
}
