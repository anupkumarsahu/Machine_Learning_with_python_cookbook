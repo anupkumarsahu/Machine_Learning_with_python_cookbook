{
 "cells": [
  {
   "cell_type": "code",
   "execution_count": null,
   "metadata": {},
   "outputs": [],
   "source": [
    "# Load library\n",
    "import numpy as np\n",
    "\n",
    "# Create matrix\n",
    "matrix = np.array([[1, 2, 3],\n",
    "                   [4, 5, 6],\n",
    "                   [7, 8, 9]])\n",
    "\n",
    "# Return maximum value\n",
    "print(np.max(matrix))\n",
    "\n",
    "# Return minimum value\n",
    "print(np.min(matrix))\n",
    "\n",
    "# Find maximum element in each column\n",
    "print(np.max(matrix, axis=0))\n",
    "\n",
    "# Find maximum element in each row\n",
    "print(np.max(matrix, axis=1))"
   ]
  }
 ],
 "metadata": {
  "language": "python"
 },
 "nbformat": 4,
 "nbformat_minor": 2
}
