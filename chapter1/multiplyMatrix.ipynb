{
 "cells": [
  {
   "cell_type": "code",
   "execution_count": null,
   "metadata": {},
   "outputs": [],
   "source": [
    "# Load library\n",
    "import numpy as np\n",
    "\n",
    "# Create matrix\n",
    "matrix_a = np.array([[1, 1],\n",
    "                     [1, 2]])\n",
    "\n",
    "# Create matrix\n",
    "matrix_b = np.array([[1, 3],\n",
    "                     [1, 2]])\n",
    "\n",
    "print(matrix_a @ matrix_b)"
   ]
  }
 ],
 "metadata": {
  "language": "python"
 },
 "nbformat": 4,
 "nbformat_minor": 2
}
