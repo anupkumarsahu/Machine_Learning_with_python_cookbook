{
 "cells": [
  {
   "cell_type": "code",
   "execution_count": null,
   "metadata": {},
   "outputs": [],
   "source": [
    "# Load library\n",
    "import numpy as np\n",
    "\n",
    "# Create matrix\n",
    "matrix = np.array([[1, 2, 3],\n",
    "                   [4, 5, 6],\n",
    "                   [7, 8, 9]])\n",
    "\n",
    "# Create function that adds 100 to something\n",
    "add_100 = lambda i: i + 100\n",
    "\n",
    "# Create vectorized function\n",
    "vectorized_add_100 = np.vectorize(add_100)\n",
    "\n",
    "# Apply function to all elements in matrix\n",
    "print(vectorized_add_100(matrix))\n"
   ]
  }
 ],
 "metadata": {
  "language": "python"
 },
 "nbformat": 4,
 "nbformat_minor": 2
}
