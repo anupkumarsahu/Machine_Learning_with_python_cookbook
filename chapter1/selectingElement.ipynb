{
 "cells": [
  {
   "cell_type": "code",
   "execution_count": null,
   "metadata": {},
   "outputs": [],
   "source": [
    "# Load library\n",
    "import numpy as np\n",
    "\n",
    "# Create row vector\n",
    "vector = np.array([1, 2, 3, 4, 5, 6])\n",
    "\n",
    "# Create matrix\n",
    "matrix = np.array([[1, 2, 3],\n",
    "                   [4, 5, 6],\n",
    "                   [7, 8, 9]])\n",
    "\n",
    "\n",
    "# Select third element of vector\n",
    "print(vector[2])\n",
    "\n",
    "# Select second row, second column\n",
    "print(matrix[1,1])\n",
    "\n",
    "# Select all elements of a vector\n",
    "print(vector[:])\n",
    "\n",
    "# Select everything up to and including the third element\n",
    "print(vector[:3])\n",
    "\n",
    "# Select everything after the third element\n",
    "print(vector[3:])\n",
    "\n",
    "# Select the last element\n",
    "print(vector[-1])\n",
    "\n",
    "# Select the first two rows and all columns of a matrix\n",
    "print(matrix[:2,:])\n",
    "\n",
    "# Select all rows and the second column\n",
    "print(matrix[:,1:2])"
   ]
  }
 ],
 "metadata": {
  "language": "python"
 },
 "nbformat": 4,
 "nbformat_minor": 2
}
