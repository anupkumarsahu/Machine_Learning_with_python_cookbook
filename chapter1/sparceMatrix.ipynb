{
 "cells": [
  {
   "cell_type": "code",
   "execution_count": null,
   "metadata": {},
   "outputs": [],
   "source": [
    "# Load library\n",
    "import numpy as np\n",
    "from scipy import sparse\n",
    "\n",
    "# Create a matrix\n",
    "matrix = np.array([[0, 0],\n",
    "                  [0, 1],\n",
    "                  [0, 2]])\n",
    "\n",
    "# Create ompressed sparse row (CSR) matrix\n",
    "matrix_sparse = sparse.csr_matrix(matrix)\n",
    "\n",
    "print(matrix_sparse)"
   ]
  }
 ],
 "metadata": {
  "language": "python"
 },
 "nbformat": 4,
 "nbformat_minor": 2
}
