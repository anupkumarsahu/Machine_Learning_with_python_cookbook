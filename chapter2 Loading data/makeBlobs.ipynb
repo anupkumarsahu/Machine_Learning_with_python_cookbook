{
 "cells": [
  {
   "cell_type": "code",
   "execution_count": null,
   "metadata": {},
   "outputs": [],
   "source": [
    "# Load library\n",
    "from sklearn.datasets import make_blobs\n",
    "\n",
    "# Generate feature matrix and target vector\n",
    "features, target = make_blobs(n_samples=100,\n",
    "                              n_features=3,\n",
    "                              centers=3,\n",
    "                              cluster_std=0.5,\n",
    "                              shuffle=True,\n",
    "                              random_state=1\n",
    "                              )\n",
    "\n",
    "# View feature matrix and target vector\n",
    "print('Feature matrix\\n', features[:3])\n",
    "print('Target Vector\\n', target[:3])"
   ]
  }
 ],
 "metadata": {
  "language": "python"
 },
 "nbformat": 4,
 "nbformat_minor": 2
}
