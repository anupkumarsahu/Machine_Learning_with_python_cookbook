{
 "cells": [
  {
   "cell_type": "code",
   "execution_count": null,
   "metadata": {},
   "outputs": [],
   "source": [
    "# Load library\n",
    "from sklearn.datasets import make_classification\n",
    "import matplotlib.pyplot as plt\n",
    "\n",
    "# generate feature matrix and target vector\n",
    "features, target = make_classification(n_samples=100,\n",
    "                                       n_features=3,\n",
    "                                       n_informative=3,\n",
    "                                       n_redundant=0,\n",
    "                                       n_classes=2,\n",
    "                                       weights=[.25, .75],\n",
    "                                       random_state=1)\n",
    "\n",
    "# View feature matrix and target vector\n",
    "print('Feature matrix\\n', features[:3])\n",
    "print('Target Vector\\n', target[:3])\n",
    "\n",
    "# view scatterplot\n",
    "plt.scatter(features[:,0], features[:,1], c=target)\n",
    "plt.show()\n"
   ]
  }
 ],
 "metadata": {
  "language": "python"
 },
 "nbformat": 4,
 "nbformat_minor": 2
}
